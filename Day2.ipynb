{
 "cells": [
  {
   "cell_type": "code",
   "execution_count": null,
   "id": "5b35f16b",
   "metadata": {},
   "outputs": [],
   "source": [
    "string = input(\"Enter a Name: \")\n",
    "print(*list(string), sep='\\n')"
   ]
  },
  {
   "cell_type": "code",
   "execution_count": null,
   "id": "ce805dc8",
   "metadata": {},
   "outputs": [],
   "source": [
    "print(\"Arithmetic Operators:\")\n",
    "a, b = 10, 3\n",
    "print(f\"a + b = {a + b}\")  # Addition\n",
    "print(f\"a - b = {a - b}\")  # Subtraction\n",
    "print(f\"a * b = {a * b}\")  # Multiplication\n",
    "print(f\"a / b = {a / b}\")  # Division\n",
    "print(f\"a % b = {a % b}\")  # Modulus\n",
    "print(f\"a ** b = {a ** b}\")  # Exponentiation"
   ]
  },
  {
   "cell_type": "code",
   "execution_count": null,
   "id": "d8e25233",
   "metadata": {},
   "outputs": [],
   "source": [
    "print(\"\\nComparison Operators:\")\n",
    "print(f\"a == b: {a == b}\")  # Equal to\n",
    "print(f\"a != b: {a != b}\")  # Not equal to\n",
    "print(f\"a > b: {a > b}\")    # Greater than\n",
    "print(f\"a < b: {a < b}\")    # Less than\n",
    "print(f\"a >= b: {a >= b}\")  # Greater than or equal to\n",
    "print(f\"a <= b: {a <= b}\")  # Less than or equal to"
   ]
  },
  {
   "cell_type": "code",
   "execution_count": null,
   "id": "1bcb9a49",
   "metadata": {},
   "outputs": [],
   "source": [
    "print(\"\\nLogical Operators:\")\n",
    "x, y = True, False\n",
    "print(f\"x and y: {x and y}\")  # Logical AND\n",
    "print(f\"x or y: {x or y}\")    # Logical OR\n",
    "print(f\"not x: {not x}\") "
   ]
  },
  {
   "cell_type": "code",
   "execution_count": null,
   "id": "96b0f9f0",
   "metadata": {},
   "outputs": [],
   "source": [
    "def name_input():\n",
    "    name = input(\"Enter your name: \")\n",
    "    print(f\"Hello, {name}!\")\n",
    "\n",
    "name_input()\n"
   ]
  },
  {
   "cell_type": "code",
   "execution_count": null,
   "id": "ffdda8d5",
   "metadata": {},
   "outputs": [],
   "source": [
    "def greet(name):\n",
    "    \"\"\"This function greets the person passed in as a parameter\"\"\"\n",
    "    return f\"Hello, {name}!\"\n",
    "\n",
    "# Calling the function\n",
    "print(greet(\"Alice\"))"
   ]
  },
  {
   "cell_type": "code",
   "execution_count": null,
   "id": "abe3d89a",
   "metadata": {},
   "outputs": [],
   "source": [
    "def power(base, exponent=2):\n",
    "    \"\"\"This function calculates the power of a number\"\"\"\n",
    "    return base ** exponent\n",
    "\n",
    "print(power(3))      # Uses default exponent (2)\n",
    "print(power(3, 3)) "
   ]
  },
  {
   "cell_type": "code",
   "execution_count": null,
   "id": "0cd4a8f6",
   "metadata": {},
   "outputs": [],
   "source": [
    "name = input(\"Enter your name: \").lower()\n",
    "con = 0\n",
    "vow = 0\n",
    "for i in name:\n",
    "    if(i == \" \"):\n",
    "        continue\n",
    "    elif(i == 'a' or i == 'e' or i == 'i' or i == 'o' or i == 'u'):\n",
    "        vow+=1\n",
    "    else:\n",
    "        con+=1\n",
    "   \n",
    "print(\"Vowel: \", vow)\n",
    "print(\"Consonent: \", con)     \n",
    "\n",
    "    "
   ]
  },
  {
   "cell_type": "code",
   "execution_count": null,
   "id": "f86f38cb",
   "metadata": {},
   "outputs": [],
   "source": [
    "\n",
    "##Rock, Paper, Scissors Game\n",
    "\n",
    "import random\n",
    "\n",
    "def get_computer_choice():\n",
    "    return random.choice(['rock', 'paper', 'scissors'])\n",
    "\n",
    "def get_user_choice():\n",
    "    while True:\n",
    "        choice = input(\"Enter your choice (rock/paper/scissors or quit to stop): \").lower()\n",
    "        if choice in ['rock', 'paper', 'scissors', 'quit']:\n",
    "            return choice\n",
    "        else:\n",
    "            print(\"Invalid input. Please try again.\")\n",
    "\n",
    "def determine_winner(user, computer):\n",
    "    if user == computer:\n",
    "        return 'tie'\n",
    "    elif (user == 'rock' and computer == 'scissors') or \\\n",
    "         (user == 'paper' and computer == 'rock') or \\\n",
    "         (user == 'scissors' and computer == 'paper'):\n",
    "        return 'user'\n",
    "    else:\n",
    "        return 'computer'\n",
    "\n",
    "def play_game():\n",
    "    user_score = 0\n",
    "    computer_score = 0\n",
    "    round_number = 1\n",
    "\n",
    "    print(\"Welcome to Rock, Paper, Scissors!\")\n",
    "    \n",
    "    while True:\n",
    "        print(f\"\\n--- Round {round_number} ---\")\n",
    "        user_choice = get_user_choice()\n",
    "        \n",
    "        if user_choice == 'quit':\n",
    "            print(\"\\nGame Over.\")\n",
    "            break\n",
    "        \n",
    "        computer_choice = get_computer_choice()\n",
    "        print(f\"Computer chose: {computer_choice}\")\n",
    "\n",
    "        winner = determine_winner(user_choice, computer_choice)\n",
    "\n",
    "        if winner == 'tie':\n",
    "            print(\"It's a tie!\")\n",
    "        elif winner == 'user':\n",
    "            print(\"You win this round!\")\n",
    "            user_score += 1\n",
    "        else:\n",
    "            print(\"Computer wins this round!\")\n",
    "            computer_score += 1\n",
    "\n",
    "        print(f\"Score -> You: {user_score} | Computer: {computer_score}\")\n",
    "        round_number += 1\n",
    "\n",
    "    print(f\"\\nFinal Score -> You: {user_score} | Computer: {computer_score}\")\n",
    "    if user_score > computer_score:\n",
    "        print(\"🎉 You are the overall winner!\")\n",
    "    elif user_score < computer_score:\n",
    "        print(\"💻 Computer is the overall winner!\")\n",
    "    else:\n",
    "        print(\"🤝 It's an overall tie!\")\n",
    "\n",
    "if __name__ == '__main__':\n",
    "    play_game()\n"
   ]
  },
  {
   "cell_type": "code",
   "execution_count": null,
   "id": "3c87d48c",
   "metadata": {},
   "outputs": [],
   "source": [
    "from math import pi as p\n",
    "\n",
    "print(\"The value of pi is\", p)"
   ]
  },
  {
   "cell_type": "code",
   "execution_count": null,
   "id": "9242e587",
   "metadata": {},
   "outputs": [],
   "source": [
    "entry = input(\"Do you have any discount? (yes/no):\")\n",
    "\n",
    "entry = entry.lower()\n",
    "if entry == \"yes\":\n",
    "    print(\"Your total bill is $45.00\")\n",
    "elif entry == \"no\":\n",
    "    print(\"Your total bill is $50.00\")\n",
    "else:\n",
    "    print(\"Invalid entry\")"
   ]
  },
  {
   "cell_type": "code",
   "execution_count": null,
   "id": "3ee4dd5d",
   "metadata": {},
   "outputs": [],
   "source": [
    "a,b = 7,10\n",
    "a,b = b,a\n",
    " print(a,b)"
   ]
  }
 ],
 "metadata": {
  "kernelspec": {
   "display_name": ".venv",
   "language": "python",
   "name": "python3"
  },
  "language_info": {
   "name": "python",
   "version": "3.13.2"
  }
 },
 "nbformat": 4,
 "nbformat_minor": 5
}
